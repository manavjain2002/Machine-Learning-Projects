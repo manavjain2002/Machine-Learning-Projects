{
 "cells": [
  {
   "cell_type": "code",
   "execution_count": 9,
   "metadata": {},
   "outputs": [],
   "source": [
    "## input text article\n",
    "article_text=\"Just what is agility in the context of software engineering work? Ivar Jacobson [Jac02a] provides a useful discussion: Agility  has become today’s buzzword when describing a modern software process. Everyone is agile. An agile team is a nimble team able to appropriately respond to changes. Change is what software development is very much about. Changes in the software being built, changes to the team members, changes because of new technology, changes of all kinds that may have an impact on the product they build or the project that creates the product. Support for changes should be built-in everything we do in software, something we embrace because it is the heart and soul of software. An agile team recognizes that software is developed by individuals working in teams and that the skills of these people, their ability to collaborate is at the core for the success of the project.In Jacobson’s view, the pervasiveness of change is the primary driver for agility. Software engineers must be quick on their feet if they are to accommodate the rapid changes that Jacobson describes.  But agility is more than an effective response to change. It also encompasses the philosophy espoused in the manifesto noted at the beginning of this chapter. It encourages team structures and attitudes that make communication (among team members, between technologists and business people, between software engineers and their managers) more facile. It emphasizes rapid delivery of operational software and deemphasizes the importance of intermediate work products (not always a good thing); it adopts the customer as a part of the development team and works to eliminate the “us and them” attitude that continues to pervade many software projects; it recognizes that planning in an uncertain world has its limits and that a project plan must be ﬂ exible.  Agility can be applied to any software process. However, to accomplish this, it is essential that the process be designed in a way that allows the project team to adapt tasks and to streamline them, conduct planning in a way that understands the ﬂ uidity of an agile development approach, eliminate all but the most essential work products and keep them lean, and emphasize an incremental delivery strategy that gets working software to the customer as rapidly as feasible for the product type and operational environment. \""
   ]
  },
  {
   "cell_type": "code",
   "execution_count": 10,
   "metadata": {},
   "outputs": [],
   "source": [
    "article_text = article_text.lower()"
   ]
  },
  {
   "cell_type": "code",
   "execution_count": 11,
   "metadata": {},
   "outputs": [],
   "source": [
    "import re\n",
    "import nltk"
   ]
  },
  {
   "cell_type": "code",
   "execution_count": 12,
   "metadata": {},
   "outputs": [
    {
     "data": {
      "text/plain": [
       "'just what is agility in the context of software engineering work ivar jacobson jac a provides a useful discussion agility has become today s buzzword when describing a modern software process everyone is agile an agile team is a nimble team able to appropriately respond to changes change is what software development is very much about changes in the software being built changes to the team members changes because of new technology changes of all kinds that may have an impact on the product they build or the project that creates the product support for changes should be built in everything we do in software something we embrace because it is the heart and soul of software an agile team recognizes that software is developed by individuals working in teams and that the skills of these people their ability to collaborate is at the core for the success of the project in jacobson s view the pervasiveness of change is the primary driver for agility software engineers must be quick on their feet if they are to accommodate the rapid changes that jacobson describes but agility is more than an effective response to change it also encompasses the philosophy espoused in the manifesto noted at the beginning of this chapter it encourages team structures and attitudes that make communication among team members between technologists and business people between software engineers and their managers more facile it emphasizes rapid delivery of operational software and deemphasizes the importance of intermediate work products not always a good thing it adopts the customer as a part of the development team and works to eliminate the us and them attitude that continues to pervade many software projects it recognizes that planning in an uncertain world has its limits and that a project plan must be exible agility can be applied to any software process however to accomplish this it is essential that the process be designed in a way that allows the project team to adapt tasks and to streamline them conduct planning in a way that understands the uidity of an agile development approach eliminate all but the most essential work products and keep them lean and emphasize an incremental delivery strategy that gets working software to the customer as rapidly as feasible for the product type and operational environment '"
      ]
     },
     "execution_count": 12,
     "metadata": {},
     "output_type": "execute_result"
    }
   ],
   "source": [
    "# Data Preporcessing\n",
    "\n",
    "text = re.sub('[^a-zA-Z]', ' ', article_text)\n",
    "text = re.sub('\\s+', ' ', text)\n",
    "text"
   ]
  },
  {
   "cell_type": "code",
   "execution_count": 13,
   "metadata": {},
   "outputs": [
    {
     "data": {
      "text/plain": [
       "['just what is agility in the context of software engineering work?',\n",
       " 'ivar jacobson [jac02a] provides a useful discussion: agility  has become today’s buzzword when describing a modern software process.',\n",
       " 'everyone is agile.',\n",
       " 'an agile team is a nimble team able to appropriately respond to changes.',\n",
       " 'change is what software development is very much about.',\n",
       " 'changes in the software being built, changes to the team members, changes because of new technology, changes of all kinds that may have an impact on the product they build or the project that creates the product.',\n",
       " 'support for changes should be built-in everything we do in software, something we embrace because it is the heart and soul of software.',\n",
       " 'an agile team recognizes that software is developed by individuals working in teams and that the skills of these people, their ability to collaborate is at the core for the success of the project.in jacobson’s view, the pervasiveness of change is the primary driver for agility.',\n",
       " 'software engineers must be quick on their feet if they are to accommodate the rapid changes that jacobson describes.',\n",
       " 'but agility is more than an effective response to change.',\n",
       " 'it also encompasses the philosophy espoused in the manifesto noted at the beginning of this chapter.',\n",
       " 'it encourages team structures and attitudes that make communication (among team members, between technologists and business people, between software engineers and their managers) more facile.',\n",
       " 'it emphasizes rapid delivery of operational software and deemphasizes the importance of intermediate work products (not always a good thing); it adopts the customer as a part of the development team and works to eliminate the “us and them” attitude that continues to pervade many software projects; it recognizes that planning in an uncertain world has its limits and that a project plan must be ﬂ exible.',\n",
       " 'agility can be applied to any software process.',\n",
       " 'however, to accomplish this, it is essential that the process be designed in a way that allows the project team to adapt tasks and to streamline them, conduct planning in a way that understands the ﬂ uidity of an agile development approach, eliminate all but the most essential work products and keep them lean, and emphasize an incremental delivery strategy that gets working software to the customer as rapidly as feasible for the product type and operational environment.']"
      ]
     },
     "execution_count": 13,
     "metadata": {},
     "output_type": "execute_result"
    }
   ],
   "source": [
    "sentence_list = nltk.sent_tokenize(article_text)\n",
    "sentence_list"
   ]
  },
  {
   "cell_type": "code",
   "execution_count": 14,
   "metadata": {},
   "outputs": [
    {
     "name": "stderr",
     "output_type": "stream",
     "text": [
      "[nltk_data] Downloading package stopwords to\n",
      "[nltk_data]     C:\\Users\\Manav\\AppData\\Roaming\\nltk_data...\n",
      "[nltk_data]   Package stopwords is already up-to-date!\n"
     ]
    }
   ],
   "source": [
    "nltk.download('stopwords')\n",
    "stopwords = nltk.corpus.stopwords.words('english')"
   ]
  },
  {
   "cell_type": "code",
   "execution_count": 15,
   "metadata": {},
   "outputs": [],
   "source": [
    "word_frequenicies = {}\n",
    "\n",
    "for word in nltk.word_tokenize(text):\n",
    "    if word not in stopwords:\n",
    "        if word not in word_frequenicies:\n",
    "            word_frequenicies[word] = 1\n",
    "        else:\n",
    "            word_frequenicies[word] += 1\n",
    "            \n",
    "            "
   ]
  },
  {
   "cell_type": "code",
   "execution_count": 16,
   "metadata": {},
   "outputs": [],
   "source": [
    "max_frequency = max(word_frequenicies.values())\n",
    "\n",
    "for word in word_frequenicies:\n",
    "    word_frequenicies[word] = word_frequenicies[word]/max_frequency"
   ]
  },
  {
   "cell_type": "code",
   "execution_count": 18,
   "metadata": {},
   "outputs": [],
   "source": [
    "# sentence scores\n",
    "\n",
    "sentence_scores = {}\n",
    "for sentence in sentence_list:\n",
    "    for word in nltk.word_tokenize(sentence):\n",
    "        if word in word_frequenicies and len(sentence.split(' ')) < 30:\n",
    "            if sentence not in sentence_scores:\n",
    "                sentence_scores[sentence] = word_frequenicies[word]\n",
    "            else:\n",
    "                sentence_scores[sentence] += word_frequenicies[word]"
   ]
  },
  {
   "cell_type": "code",
   "execution_count": 19,
   "metadata": {},
   "outputs": [
    {
     "data": {
      "text/plain": [
       "{'agility': 5.384615384615385,\n",
       " 'context': 1.0769230769230769,\n",
       " 'software': 14.0,\n",
       " 'engineering': 1.0769230769230769,\n",
       " 'work': 3.230769230769231,\n",
       " 'ivar': 1.0769230769230769,\n",
       " 'jacobson': 3.230769230769231,\n",
       " 'jac': 0.07692307692307693,\n",
       " 'provides': 1.0769230769230769,\n",
       " 'useful': 1.0769230769230769,\n",
       " 'discussion': 1.0769230769230769,\n",
       " 'become': 1.0769230769230769,\n",
       " 'today': 1.0769230769230769,\n",
       " 'buzzword': 1.0769230769230769,\n",
       " 'describing': 1.0769230769230769,\n",
       " 'modern': 1.0769230769230769,\n",
       " 'process': 3.230769230769231,\n",
       " 'everyone': 1.0769230769230769,\n",
       " 'agile': 4.3076923076923075,\n",
       " 'team': 8.615384615384615,\n",
       " 'nimble': 1.0769230769230769,\n",
       " 'able': 1.0769230769230769,\n",
       " 'appropriately': 1.0769230769230769,\n",
       " 'respond': 1.0769230769230769,\n",
       " 'changes': 7.538461538461538,\n",
       " 'change': 3.230769230769231,\n",
       " 'development': 3.230769230769231,\n",
       " 'much': 1.0769230769230769,\n",
       " 'built': 1.1538461538461537,\n",
       " 'members': 2.1538461538461537,\n",
       " 'new': 1.0769230769230769,\n",
       " 'technology': 1.0769230769230769,\n",
       " 'kinds': 1.0769230769230769,\n",
       " 'may': 1.0769230769230769,\n",
       " 'impact': 1.0769230769230769,\n",
       " 'product': 3.230769230769231,\n",
       " 'build': 1.0769230769230769,\n",
       " 'project': 3.3076923076923075,\n",
       " 'creates': 1.0769230769230769,\n",
       " 'support': 1.0769230769230769,\n",
       " 'everything': 1.0769230769230769,\n",
       " 'something': 1.0769230769230769,\n",
       " 'embrace': 1.0769230769230769,\n",
       " 'heart': 1.0769230769230769,\n",
       " 'soul': 1.0769230769230769,\n",
       " 'recognizes': 2.1538461538461537,\n",
       " 'developed': 1.0769230769230769,\n",
       " 'individuals': 1.0769230769230769,\n",
       " 'working': 2.1538461538461537,\n",
       " 'teams': 1.0769230769230769,\n",
       " 'skills': 1.0769230769230769,\n",
       " 'people': 2.1538461538461537,\n",
       " 'ability': 1.0769230769230769,\n",
       " 'collaborate': 1.0769230769230769,\n",
       " 'core': 1.0769230769230769,\n",
       " 'success': 1.0769230769230769,\n",
       " 'view': 1.0769230769230769,\n",
       " 'pervasiveness': 1.0769230769230769,\n",
       " 'primary': 1.0769230769230769,\n",
       " 'driver': 1.0769230769230769,\n",
       " 'engineers': 2.1538461538461537,\n",
       " 'must': 2.1538461538461537,\n",
       " 'quick': 1.0769230769230769,\n",
       " 'feet': 1.0769230769230769,\n",
       " 'accommodate': 1.0769230769230769,\n",
       " 'rapid': 2.1538461538461537,\n",
       " 'describes': 1.0769230769230769,\n",
       " 'effective': 1.0769230769230769,\n",
       " 'response': 1.0769230769230769,\n",
       " 'also': 1.0769230769230769,\n",
       " 'encompasses': 1.0769230769230769,\n",
       " 'philosophy': 1.0769230769230769,\n",
       " 'espoused': 1.0769230769230769,\n",
       " 'manifesto': 1.0769230769230769,\n",
       " 'noted': 1.0769230769230769,\n",
       " 'beginning': 1.0769230769230769,\n",
       " 'chapter': 1.0769230769230769,\n",
       " 'encourages': 1.0769230769230769,\n",
       " 'structures': 1.0769230769230769,\n",
       " 'attitudes': 1.0769230769230769,\n",
       " 'make': 1.0769230769230769,\n",
       " 'communication': 1.0769230769230769,\n",
       " 'among': 1.0769230769230769,\n",
       " 'technologists': 1.0769230769230769,\n",
       " 'business': 1.0769230769230769,\n",
       " 'managers': 1.0769230769230769,\n",
       " 'facile': 1.0769230769230769,\n",
       " 'emphasizes': 1.0769230769230769,\n",
       " 'delivery': 2.1538461538461537,\n",
       " 'operational': 2.1538461538461537,\n",
       " 'deemphasizes': 1.0769230769230769,\n",
       " 'importance': 1.0769230769230769,\n",
       " 'intermediate': 1.0769230769230769,\n",
       " 'products': 2.1538461538461537,\n",
       " 'always': 1.0769230769230769,\n",
       " 'good': 1.0769230769230769,\n",
       " 'thing': 1.0769230769230769,\n",
       " 'adopts': 1.0769230769230769,\n",
       " 'customer': 2.1538461538461537,\n",
       " 'part': 1.0769230769230769,\n",
       " 'works': 1.0769230769230769,\n",
       " 'eliminate': 2.1538461538461537,\n",
       " 'us': 1.0769230769230769,\n",
       " 'attitude': 1.0769230769230769,\n",
       " 'continues': 1.0769230769230769,\n",
       " 'pervade': 1.0769230769230769,\n",
       " 'many': 1.0769230769230769,\n",
       " 'projects': 1.0769230769230769,\n",
       " 'planning': 2.1538461538461537,\n",
       " 'uncertain': 1.0769230769230769,\n",
       " 'world': 1.0769230769230769,\n",
       " 'limits': 1.0769230769230769,\n",
       " 'plan': 1.0769230769230769,\n",
       " 'exible': 1.0769230769230769,\n",
       " 'applied': 1.0769230769230769,\n",
       " 'however': 1.0769230769230769,\n",
       " 'accomplish': 1.0769230769230769,\n",
       " 'essential': 2.1538461538461537,\n",
       " 'designed': 1.0769230769230769,\n",
       " 'way': 2.1538461538461537,\n",
       " 'allows': 1.0769230769230769,\n",
       " 'adapt': 1.0769230769230769,\n",
       " 'tasks': 1.0769230769230769,\n",
       " 'streamline': 1.0769230769230769,\n",
       " 'conduct': 1.0769230769230769,\n",
       " 'understands': 1.0769230769230769,\n",
       " 'uidity': 1.0769230769230769,\n",
       " 'approach': 1.0769230769230769,\n",
       " 'keep': 1.0769230769230769,\n",
       " 'lean': 1.0769230769230769,\n",
       " 'emphasize': 1.0769230769230769,\n",
       " 'incremental': 1.0769230769230769,\n",
       " 'strategy': 1.0769230769230769,\n",
       " 'gets': 1.0769230769230769,\n",
       " 'rapidly': 1.0769230769230769,\n",
       " 'feasible': 1.0769230769230769,\n",
       " 'type': 1.0769230769230769,\n",
       " 'environment': 1.0769230769230769,\n",
       " '?': 1,\n",
       " '[': 1,\n",
       " 'jac02a': 1,\n",
       " ']': 1,\n",
       " ':': 1,\n",
       " '’': 2,\n",
       " '.': 14,\n",
       " ',': 13,\n",
       " 'built-in': 1,\n",
       " 'project.in': 1,\n",
       " '(': 2,\n",
       " ')': 2,\n",
       " ';': 2,\n",
       " '“': 1,\n",
       " '”': 1,\n",
       " 'ﬂ': 2}"
      ]
     },
     "execution_count": 19,
     "metadata": {},
     "output_type": "execute_result"
    }
   ],
   "source": [
    "word_frequenicies"
   ]
  },
  {
   "cell_type": "code",
   "execution_count": 20,
   "metadata": {},
   "outputs": [
    {
     "data": {
      "text/plain": [
       "{'just what is agility in the context of software engineering work?': 25.769230769230766,\n",
       " 'ivar jacobson [jac02a] provides a useful discussion: agility  has become today’s buzzword when describing a modern software process.': 55.53846153846154,\n",
       " 'everyone is agile.': 19.384615384615383,\n",
       " 'an agile team is a nimble team able to appropriately respond to changes.': 47.38461538461538,\n",
       " 'change is what software development is very much about.': 35.53846153846153,\n",
       " 'support for changes should be built-in everything we do in software, something we embrace because it is the heart and soul of software.': 70.00000000000001,\n",
       " 'software engineers must be quick on their feet if they are to accommodate the rapid changes that jacobson describes.': 49.53846153846154,\n",
       " 'but agility is more than an effective response to change.': 24.76923076923077,\n",
       " 'it also encompasses the philosophy espoused in the manifesto noted at the beginning of this chapter.': 22.615384615384613,\n",
       " 'it encourages team structures and attitudes that make communication (among team members, between technologists and business people, between software engineers and their managers) more facile.': 92.46153846153848,\n",
       " 'agility can be applied to any software process.': 37.69230769230769}"
      ]
     },
     "execution_count": 20,
     "metadata": {},
     "output_type": "execute_result"
    }
   ],
   "source": [
    "sentence_scores"
   ]
  },
  {
   "cell_type": "code",
   "execution_count": 22,
   "metadata": {},
   "outputs": [
    {
     "name": "stdout",
     "output_type": "stream",
     "text": [
      "it encourages team structures and attitudes that make communication (among team members, between technologists and business people, between software engineers and their managers) more facile. support for changes should be built-in everything we do in software, something we embrace because it is the heart and soul of software. ivar jacobson [jac02a] provides a useful discussion: agility  has become today’s buzzword when describing a modern software process. software engineers must be quick on their feet if they are to accommodate the rapid changes that jacobson describes. an agile team is a nimble team able to appropriately respond to changes.\n"
     ]
    }
   ],
   "source": [
    "# Text Summarization\n",
    "\n",
    "import heapq\n",
    "\n",
    "summary = heapq.nlargest(5, sentence_scores, key = sentence_scores.get)\n",
    "\n",
    "print(' '.join(summary))"
   ]
  },
  {
   "cell_type": "code",
   "execution_count": null,
   "metadata": {},
   "outputs": [],
   "source": []
  }
 ],
 "metadata": {
  "kernelspec": {
   "display_name": "Python 3",
   "language": "python",
   "name": "python3"
  },
  "language_info": {
   "codemirror_mode": {
    "name": "ipython",
    "version": 3
   },
   "file_extension": ".py",
   "mimetype": "text/x-python",
   "name": "python",
   "nbconvert_exporter": "python",
   "pygments_lexer": "ipython3",
   "version": "3.8.5"
  }
 },
 "nbformat": 4,
 "nbformat_minor": 4
}
